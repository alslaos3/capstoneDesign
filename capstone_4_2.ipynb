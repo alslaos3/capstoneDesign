{
 "cells": [
  {
   "cell_type": "code",
   "execution_count": 1,
   "outputs": [],
   "source": [
    "from matminer.data_retrieval.retrieve_Citrine import CitrineDataRetrieval"
   ],
   "metadata": {
    "collapsed": false,
    "pycharm": {
     "name": "#%%\n"
    }
   }
  },
  {
   "cell_type": "code",
   "execution_count": 2,
   "outputs": [],
   "source": [
    "cdr = CitrineDataRetrieval(api_key='Pj6qmlJCUkKIledB2mgC3wtt')"
   ],
   "metadata": {
    "collapsed": false,
    "pycharm": {
     "name": "#%%\n"
    }
   }
  },
  {
   "cell_type": "code",
   "execution_count": 4,
   "outputs": [
    {
     "name": "stderr",
     "output_type": "stream",
     "text": [
      "  0%|          | 0/7 [00:00<?, ?it/s]C:\\Users\\USER\\PycharmProjects\\materials\\venv\\lib\\site-packages\\matminer\\data_retrieval\\retrieve_Citrine.py:123: FutureWarning: pandas.io.json.json_normalize is deprecated, use pandas.json_normalize instead.\n",
      "  system_normdf = json_normalize(system_value)\n",
      "C:\\Users\\USER\\PycharmProjects\\materials\\venv\\lib\\site-packages\\matminer\\data_retrieval\\retrieve_Citrine.py:129: FutureWarning: The frame.append method is deprecated and will be removed from pandas in a future version. Use pandas.concat instead.\n",
      "  non_prop_df = non_prop_df.append(non_prop_row)\n",
      "C:\\Users\\USER\\PycharmProjects\\materials\\venv\\lib\\site-packages\\matminer\\data_retrieval\\retrieve_Citrine.py:167: FutureWarning: The frame.append method is deprecated and will be removed from pandas in a future version. Use pandas.concat instead.\n",
      "  prop_df = prop_df.append(p_df)\n",
      "C:\\Users\\USER\\PycharmProjects\\materials\\venv\\lib\\site-packages\\matminer\\data_retrieval\\retrieve_Citrine.py:123: FutureWarning: pandas.io.json.json_normalize is deprecated, use pandas.json_normalize instead.\n",
      "  system_normdf = json_normalize(system_value)\n",
      "C:\\Users\\USER\\PycharmProjects\\materials\\venv\\lib\\site-packages\\matminer\\data_retrieval\\retrieve_Citrine.py:129: FutureWarning: The frame.append method is deprecated and will be removed from pandas in a future version. Use pandas.concat instead.\n",
      "  non_prop_df = non_prop_df.append(non_prop_row)\n",
      "C:\\Users\\USER\\PycharmProjects\\materials\\venv\\lib\\site-packages\\matminer\\data_retrieval\\retrieve_Citrine.py:167: FutureWarning: The frame.append method is deprecated and will be removed from pandas in a future version. Use pandas.concat instead.\n",
      "  prop_df = prop_df.append(p_df)\n",
      "C:\\Users\\USER\\PycharmProjects\\materials\\venv\\lib\\site-packages\\matminer\\data_retrieval\\retrieve_Citrine.py:123: FutureWarning: pandas.io.json.json_normalize is deprecated, use pandas.json_normalize instead.\n",
      "  system_normdf = json_normalize(system_value)\n",
      "C:\\Users\\USER\\PycharmProjects\\materials\\venv\\lib\\site-packages\\matminer\\data_retrieval\\retrieve_Citrine.py:129: FutureWarning: The frame.append method is deprecated and will be removed from pandas in a future version. Use pandas.concat instead.\n",
      "  non_prop_df = non_prop_df.append(non_prop_row)\n",
      "C:\\Users\\USER\\PycharmProjects\\materials\\venv\\lib\\site-packages\\matminer\\data_retrieval\\retrieve_Citrine.py:167: FutureWarning: The frame.append method is deprecated and will be removed from pandas in a future version. Use pandas.concat instead.\n",
      "  prop_df = prop_df.append(p_df)\n",
      "C:\\Users\\USER\\PycharmProjects\\materials\\venv\\lib\\site-packages\\matminer\\data_retrieval\\retrieve_Citrine.py:123: FutureWarning: pandas.io.json.json_normalize is deprecated, use pandas.json_normalize instead.\n",
      "  system_normdf = json_normalize(system_value)\n",
      "C:\\Users\\USER\\PycharmProjects\\materials\\venv\\lib\\site-packages\\matminer\\data_retrieval\\retrieve_Citrine.py:129: FutureWarning: The frame.append method is deprecated and will be removed from pandas in a future version. Use pandas.concat instead.\n",
      "  non_prop_df = non_prop_df.append(non_prop_row)\n",
      "C:\\Users\\USER\\PycharmProjects\\materials\\venv\\lib\\site-packages\\matminer\\data_retrieval\\retrieve_Citrine.py:167: FutureWarning: The frame.append method is deprecated and will be removed from pandas in a future version. Use pandas.concat instead.\n",
      "  prop_df = prop_df.append(p_df)\n",
      "C:\\Users\\USER\\PycharmProjects\\materials\\venv\\lib\\site-packages\\matminer\\data_retrieval\\retrieve_Citrine.py:123: FutureWarning: pandas.io.json.json_normalize is deprecated, use pandas.json_normalize instead.\n",
      "  system_normdf = json_normalize(system_value)\n",
      "C:\\Users\\USER\\PycharmProjects\\materials\\venv\\lib\\site-packages\\matminer\\data_retrieval\\retrieve_Citrine.py:129: FutureWarning: The frame.append method is deprecated and will be removed from pandas in a future version. Use pandas.concat instead.\n",
      "  non_prop_df = non_prop_df.append(non_prop_row)\n",
      "C:\\Users\\USER\\PycharmProjects\\materials\\venv\\lib\\site-packages\\matminer\\data_retrieval\\retrieve_Citrine.py:167: FutureWarning: The frame.append method is deprecated and will be removed from pandas in a future version. Use pandas.concat instead.\n",
      "  prop_df = prop_df.append(p_df)\n",
      "C:\\Users\\USER\\PycharmProjects\\materials\\venv\\lib\\site-packages\\matminer\\data_retrieval\\retrieve_Citrine.py:123: FutureWarning: pandas.io.json.json_normalize is deprecated, use pandas.json_normalize instead.\n",
      "  system_normdf = json_normalize(system_value)\n",
      "C:\\Users\\USER\\PycharmProjects\\materials\\venv\\lib\\site-packages\\matminer\\data_retrieval\\retrieve_Citrine.py:129: FutureWarning: The frame.append method is deprecated and will be removed from pandas in a future version. Use pandas.concat instead.\n",
      "  non_prop_df = non_prop_df.append(non_prop_row)\n",
      "C:\\Users\\USER\\PycharmProjects\\materials\\venv\\lib\\site-packages\\matminer\\data_retrieval\\retrieve_Citrine.py:167: FutureWarning: The frame.append method is deprecated and will be removed from pandas in a future version. Use pandas.concat instead.\n",
      "  prop_df = prop_df.append(p_df)\n",
      "C:\\Users\\USER\\PycharmProjects\\materials\\venv\\lib\\site-packages\\matminer\\data_retrieval\\retrieve_Citrine.py:123: FutureWarning: pandas.io.json.json_normalize is deprecated, use pandas.json_normalize instead.\n",
      "  system_normdf = json_normalize(system_value)\n",
      "C:\\Users\\USER\\PycharmProjects\\materials\\venv\\lib\\site-packages\\matminer\\data_retrieval\\retrieve_Citrine.py:129: FutureWarning: The frame.append method is deprecated and will be removed from pandas in a future version. Use pandas.concat instead.\n",
      "  non_prop_df = non_prop_df.append(non_prop_row)\n",
      "C:\\Users\\USER\\PycharmProjects\\materials\\venv\\lib\\site-packages\\matminer\\data_retrieval\\retrieve_Citrine.py:167: FutureWarning: The frame.append method is deprecated and will be removed from pandas in a future version. Use pandas.concat instead.\n",
      "  prop_df = prop_df.append(p_df)\n",
      "100%|██████████| 7/7 [00:00<00:00, 142.85it/s]"
     ]
    },
    {
     "name": "stdout",
     "output_type": "stream",
     "text": [
      "all available fields:\n",
      "['Band gap-conditions', 'chemicalFormula', 'uid', 'Crystallinity', 'Band gap', 'category', 'Band gap-dataType', 'Band gap-units', 'references', 'Band gap-methods']\n",
      "\n",
      "suggested common fields:\n",
      "['references', 'chemicalFormula', 'Crystallinity', 'Band gap', 'Band gap-units', 'Band gap-conditions', 'Band gap-methods', 'Band gap-dataType']\n"
     ]
    },
    {
     "name": "stderr",
     "output_type": "stream",
     "text": [
      "\n"
     ]
    }
   ],
   "source": [
    "df = cdr.get_dataframe(criteria={'formula':'Si', 'data_type': 'EXPERIMENTAL'},\n",
    "                       properties=['Band gap'],\n",
    "                       secondary_fields=True)"
   ],
   "metadata": {
    "collapsed": false,
    "pycharm": {
     "name": "#%%\n"
    }
   }
  },
  {
   "cell_type": "code",
   "execution_count": 9,
   "outputs": [
    {
     "data": {
      "text/plain": "                       references chemicalFormula       Crystallinity  \\\n1  [{'doi': '10.1063/1.3253115'}]              Si  Single crystalline   \n2  [{'doi': '10.1063/1.3253115'}]              Si  Single crystalline   \n3  [{'doi': '10.1063/1.3253115'}]              Si  Single crystalline   \n4  [{'doi': '10.1063/1.3253115'}]              Si  Single crystalline   \n5  [{'doi': '10.1063/1.3253115'}]              Si  Single crystalline   \n\n  Band gap Band gap-units                                Band gap-conditions  \\\n1     1.12             eV  [{'name': 'Transition', 'scalars': [{'value': ...   \n2    1.166             eV  [{'name': 'Transition', 'scalars': [{'value': ...   \n3     1.16             eV  [{'name': 'Transition', 'scalars': [{'value': ...   \n4     1.16             eV  [{'name': 'Transition', 'scalars': [{'value': ...   \n5     1.17             eV  [{'name': 'Transition', 'scalars': [{'value': ...   \n\n         Band gap-methods Band gap-dataType  \n1  {'name': 'Absorption'}      EXPERIMENTAL  \n2                     NaN      EXPERIMENTAL  \n3  {'name': 'Absorption'}      EXPERIMENTAL  \n4  {'name': 'Absorption'}      EXPERIMENTAL  \n5  {'name': 'Absorption'}      EXPERIMENTAL  ",
      "text/html": "<div>\n<style scoped>\n    .dataframe tbody tr th:only-of-type {\n        vertical-align: middle;\n    }\n\n    .dataframe tbody tr th {\n        vertical-align: top;\n    }\n\n    .dataframe thead th {\n        text-align: right;\n    }\n</style>\n<table border=\"1\" class=\"dataframe\">\n  <thead>\n    <tr style=\"text-align: right;\">\n      <th></th>\n      <th>references</th>\n      <th>chemicalFormula</th>\n      <th>Crystallinity</th>\n      <th>Band gap</th>\n      <th>Band gap-units</th>\n      <th>Band gap-conditions</th>\n      <th>Band gap-methods</th>\n      <th>Band gap-dataType</th>\n    </tr>\n  </thead>\n  <tbody>\n    <tr>\n      <th>1</th>\n      <td>[{'doi': '10.1063/1.3253115'}]</td>\n      <td>Si</td>\n      <td>Single crystalline</td>\n      <td>1.12</td>\n      <td>eV</td>\n      <td>[{'name': 'Transition', 'scalars': [{'value': ...</td>\n      <td>{'name': 'Absorption'}</td>\n      <td>EXPERIMENTAL</td>\n    </tr>\n    <tr>\n      <th>2</th>\n      <td>[{'doi': '10.1063/1.3253115'}]</td>\n      <td>Si</td>\n      <td>Single crystalline</td>\n      <td>1.166</td>\n      <td>eV</td>\n      <td>[{'name': 'Transition', 'scalars': [{'value': ...</td>\n      <td>NaN</td>\n      <td>EXPERIMENTAL</td>\n    </tr>\n    <tr>\n      <th>3</th>\n      <td>[{'doi': '10.1063/1.3253115'}]</td>\n      <td>Si</td>\n      <td>Single crystalline</td>\n      <td>1.16</td>\n      <td>eV</td>\n      <td>[{'name': 'Transition', 'scalars': [{'value': ...</td>\n      <td>{'name': 'Absorption'}</td>\n      <td>EXPERIMENTAL</td>\n    </tr>\n    <tr>\n      <th>4</th>\n      <td>[{'doi': '10.1063/1.3253115'}]</td>\n      <td>Si</td>\n      <td>Single crystalline</td>\n      <td>1.16</td>\n      <td>eV</td>\n      <td>[{'name': 'Transition', 'scalars': [{'value': ...</td>\n      <td>{'name': 'Absorption'}</td>\n      <td>EXPERIMENTAL</td>\n    </tr>\n    <tr>\n      <th>5</th>\n      <td>[{'doi': '10.1063/1.3253115'}]</td>\n      <td>Si</td>\n      <td>Single crystalline</td>\n      <td>1.17</td>\n      <td>eV</td>\n      <td>[{'name': 'Transition', 'scalars': [{'value': ...</td>\n      <td>{'name': 'Absorption'}</td>\n      <td>EXPERIMENTAL</td>\n    </tr>\n  </tbody>\n</table>\n</div>"
     },
     "execution_count": 9,
     "metadata": {},
     "output_type": "execute_result"
    }
   ],
   "source": [
    "df.head()"
   ],
   "metadata": {
    "collapsed": false,
    "pycharm": {
     "name": "#%%\n"
    }
   }
  },
  {
   "cell_type": "code",
   "execution_count": 6,
   "outputs": [
    {
     "name": "stderr",
     "output_type": "stream",
     "text": [
      "  0%|          | 0/9 [00:00<?, ?it/s]C:\\Users\\USER\\PycharmProjects\\materials\\venv\\lib\\site-packages\\matminer\\data_retrieval\\retrieve_Citrine.py:123: FutureWarning: pandas.io.json.json_normalize is deprecated, use pandas.json_normalize instead.\n",
      "  system_normdf = json_normalize(system_value)\n",
      "C:\\Users\\USER\\PycharmProjects\\materials\\venv\\lib\\site-packages\\matminer\\data_retrieval\\retrieve_Citrine.py:129: FutureWarning: The frame.append method is deprecated and will be removed from pandas in a future version. Use pandas.concat instead.\n",
      "  non_prop_df = non_prop_df.append(non_prop_row)\n",
      "C:\\Users\\USER\\PycharmProjects\\materials\\venv\\lib\\site-packages\\matminer\\data_retrieval\\retrieve_Citrine.py:167: FutureWarning: The frame.append method is deprecated and will be removed from pandas in a future version. Use pandas.concat instead.\n",
      "  prop_df = prop_df.append(p_df)\n",
      "C:\\Users\\USER\\PycharmProjects\\materials\\venv\\lib\\site-packages\\matminer\\data_retrieval\\retrieve_Citrine.py:123: FutureWarning: pandas.io.json.json_normalize is deprecated, use pandas.json_normalize instead.\n",
      "  system_normdf = json_normalize(system_value)\n",
      "C:\\Users\\USER\\PycharmProjects\\materials\\venv\\lib\\site-packages\\matminer\\data_retrieval\\retrieve_Citrine.py:129: FutureWarning: The frame.append method is deprecated and will be removed from pandas in a future version. Use pandas.concat instead.\n",
      "  non_prop_df = non_prop_df.append(non_prop_row)\n",
      "C:\\Users\\USER\\PycharmProjects\\materials\\venv\\lib\\site-packages\\matminer\\data_retrieval\\retrieve_Citrine.py:167: FutureWarning: The frame.append method is deprecated and will be removed from pandas in a future version. Use pandas.concat instead.\n",
      "  prop_df = prop_df.append(p_df)\n",
      "C:\\Users\\USER\\PycharmProjects\\materials\\venv\\lib\\site-packages\\matminer\\data_retrieval\\retrieve_Citrine.py:123: FutureWarning: pandas.io.json.json_normalize is deprecated, use pandas.json_normalize instead.\n",
      "  system_normdf = json_normalize(system_value)\n",
      "C:\\Users\\USER\\PycharmProjects\\materials\\venv\\lib\\site-packages\\matminer\\data_retrieval\\retrieve_Citrine.py:129: FutureWarning: The frame.append method is deprecated and will be removed from pandas in a future version. Use pandas.concat instead.\n",
      "  non_prop_df = non_prop_df.append(non_prop_row)\n",
      "C:\\Users\\USER\\PycharmProjects\\materials\\venv\\lib\\site-packages\\matminer\\data_retrieval\\retrieve_Citrine.py:167: FutureWarning: The frame.append method is deprecated and will be removed from pandas in a future version. Use pandas.concat instead.\n",
      "  prop_df = prop_df.append(p_df)\n",
      "C:\\Users\\USER\\PycharmProjects\\materials\\venv\\lib\\site-packages\\matminer\\data_retrieval\\retrieve_Citrine.py:123: FutureWarning: pandas.io.json.json_normalize is deprecated, use pandas.json_normalize instead.\n",
      "  system_normdf = json_normalize(system_value)\n",
      "C:\\Users\\USER\\PycharmProjects\\materials\\venv\\lib\\site-packages\\matminer\\data_retrieval\\retrieve_Citrine.py:129: FutureWarning: The frame.append method is deprecated and will be removed from pandas in a future version. Use pandas.concat instead.\n",
      "  non_prop_df = non_prop_df.append(non_prop_row)\n",
      "C:\\Users\\USER\\PycharmProjects\\materials\\venv\\lib\\site-packages\\matminer\\data_retrieval\\retrieve_Citrine.py:167: FutureWarning: The frame.append method is deprecated and will be removed from pandas in a future version. Use pandas.concat instead.\n",
      "  prop_df = prop_df.append(p_df)\n",
      "C:\\Users\\USER\\PycharmProjects\\materials\\venv\\lib\\site-packages\\matminer\\data_retrieval\\retrieve_Citrine.py:123: FutureWarning: pandas.io.json.json_normalize is deprecated, use pandas.json_normalize instead.\n",
      "  system_normdf = json_normalize(system_value)\n",
      "C:\\Users\\USER\\PycharmProjects\\materials\\venv\\lib\\site-packages\\matminer\\data_retrieval\\retrieve_Citrine.py:129: FutureWarning: The frame.append method is deprecated and will be removed from pandas in a future version. Use pandas.concat instead.\n",
      "  non_prop_df = non_prop_df.append(non_prop_row)\n",
      "C:\\Users\\USER\\PycharmProjects\\materials\\venv\\lib\\site-packages\\matminer\\data_retrieval\\retrieve_Citrine.py:167: FutureWarning: The frame.append method is deprecated and will be removed from pandas in a future version. Use pandas.concat instead.\n",
      "  prop_df = prop_df.append(p_df)\n",
      "C:\\Users\\USER\\PycharmProjects\\materials\\venv\\lib\\site-packages\\matminer\\data_retrieval\\retrieve_Citrine.py:123: FutureWarning: pandas.io.json.json_normalize is deprecated, use pandas.json_normalize instead.\n",
      "  system_normdf = json_normalize(system_value)\n",
      "C:\\Users\\USER\\PycharmProjects\\materials\\venv\\lib\\site-packages\\matminer\\data_retrieval\\retrieve_Citrine.py:129: FutureWarning: The frame.append method is deprecated and will be removed from pandas in a future version. Use pandas.concat instead.\n",
      "  non_prop_df = non_prop_df.append(non_prop_row)\n",
      "C:\\Users\\USER\\PycharmProjects\\materials\\venv\\lib\\site-packages\\matminer\\data_retrieval\\retrieve_Citrine.py:167: FutureWarning: The frame.append method is deprecated and will be removed from pandas in a future version. Use pandas.concat instead.\n",
      "  prop_df = prop_df.append(p_df)\n",
      "C:\\Users\\USER\\PycharmProjects\\materials\\venv\\lib\\site-packages\\matminer\\data_retrieval\\retrieve_Citrine.py:123: FutureWarning: pandas.io.json.json_normalize is deprecated, use pandas.json_normalize instead.\n",
      "  system_normdf = json_normalize(system_value)\n",
      "C:\\Users\\USER\\PycharmProjects\\materials\\venv\\lib\\site-packages\\matminer\\data_retrieval\\retrieve_Citrine.py:129: FutureWarning: The frame.append method is deprecated and will be removed from pandas in a future version. Use pandas.concat instead.\n",
      "  non_prop_df = non_prop_df.append(non_prop_row)\n",
      "C:\\Users\\USER\\PycharmProjects\\materials\\venv\\lib\\site-packages\\matminer\\data_retrieval\\retrieve_Citrine.py:167: FutureWarning: The frame.append method is deprecated and will be removed from pandas in a future version. Use pandas.concat instead.\n",
      "  prop_df = prop_df.append(p_df)\n",
      "C:\\Users\\USER\\PycharmProjects\\materials\\venv\\lib\\site-packages\\matminer\\data_retrieval\\retrieve_Citrine.py:123: FutureWarning: pandas.io.json.json_normalize is deprecated, use pandas.json_normalize instead.\n",
      "  system_normdf = json_normalize(system_value)\n",
      "C:\\Users\\USER\\PycharmProjects\\materials\\venv\\lib\\site-packages\\matminer\\data_retrieval\\retrieve_Citrine.py:129: FutureWarning: The frame.append method is deprecated and will be removed from pandas in a future version. Use pandas.concat instead.\n",
      "  non_prop_df = non_prop_df.append(non_prop_row)\n",
      "C:\\Users\\USER\\PycharmProjects\\materials\\venv\\lib\\site-packages\\matminer\\data_retrieval\\retrieve_Citrine.py:167: FutureWarning: The frame.append method is deprecated and will be removed from pandas in a future version. Use pandas.concat instead.\n",
      "  prop_df = prop_df.append(p_df)\n",
      "C:\\Users\\USER\\PycharmProjects\\materials\\venv\\lib\\site-packages\\matminer\\data_retrieval\\retrieve_Citrine.py:123: FutureWarning: pandas.io.json.json_normalize is deprecated, use pandas.json_normalize instead.\n",
      "  system_normdf = json_normalize(system_value)\n",
      "C:\\Users\\USER\\PycharmProjects\\materials\\venv\\lib\\site-packages\\matminer\\data_retrieval\\retrieve_Citrine.py:129: FutureWarning: The frame.append method is deprecated and will be removed from pandas in a future version. Use pandas.concat instead.\n",
      "  non_prop_df = non_prop_df.append(non_prop_row)\n",
      "C:\\Users\\USER\\PycharmProjects\\materials\\venv\\lib\\site-packages\\matminer\\data_retrieval\\retrieve_Citrine.py:167: FutureWarning: The frame.append method is deprecated and will be removed from pandas in a future version. Use pandas.concat instead.\n",
      "  prop_df = prop_df.append(p_df)\n",
      "100%|██████████| 9/9 [00:00<00:00, 115.39it/s]\n"
     ]
    },
    {
     "name": "stdout",
     "output_type": "stream",
     "text": [
      "all available fields:\n",
      "['Adsorption energy of OH-dataType', 'chemicalFormula', 'uid', 'Adsorption energy of OH-units', 'category', 'Adsorption energy of OH-conditions', 'Morphology', 'references', 'Adsorption energy of OH', 'Surface facet']\n",
      "\n",
      "suggested common fields:\n",
      "['references', 'chemicalFormula', 'Surface facet', 'Adsorption energy of OH', 'Adsorption energy of OH-units', 'Adsorption energy of OH-dataType', 'Morphology', 'Adsorption energy of OH-conditions']\n"
     ]
    },
    {
     "name": "stderr",
     "output_type": "stream",
     "text": [
      "  0%|          | 0/21 [00:00<?, ?it/s]C:\\Users\\USER\\PycharmProjects\\materials\\venv\\lib\\site-packages\\matminer\\data_retrieval\\retrieve_Citrine.py:123: FutureWarning: pandas.io.json.json_normalize is deprecated, use pandas.json_normalize instead.\n",
      "  system_normdf = json_normalize(system_value)\n",
      "C:\\Users\\USER\\PycharmProjects\\materials\\venv\\lib\\site-packages\\matminer\\data_retrieval\\retrieve_Citrine.py:129: FutureWarning: The frame.append method is deprecated and will be removed from pandas in a future version. Use pandas.concat instead.\n",
      "  non_prop_df = non_prop_df.append(non_prop_row)\n",
      "C:\\Users\\USER\\PycharmProjects\\materials\\venv\\lib\\site-packages\\matminer\\data_retrieval\\retrieve_Citrine.py:167: FutureWarning: The frame.append method is deprecated and will be removed from pandas in a future version. Use pandas.concat instead.\n",
      "  prop_df = prop_df.append(p_df)\n",
      "C:\\Users\\USER\\PycharmProjects\\materials\\venv\\lib\\site-packages\\matminer\\data_retrieval\\retrieve_Citrine.py:123: FutureWarning: pandas.io.json.json_normalize is deprecated, use pandas.json_normalize instead.\n",
      "  system_normdf = json_normalize(system_value)\n",
      "C:\\Users\\USER\\PycharmProjects\\materials\\venv\\lib\\site-packages\\matminer\\data_retrieval\\retrieve_Citrine.py:129: FutureWarning: The frame.append method is deprecated and will be removed from pandas in a future version. Use pandas.concat instead.\n",
      "  non_prop_df = non_prop_df.append(non_prop_row)\n",
      "C:\\Users\\USER\\PycharmProjects\\materials\\venv\\lib\\site-packages\\matminer\\data_retrieval\\retrieve_Citrine.py:167: FutureWarning: The frame.append method is deprecated and will be removed from pandas in a future version. Use pandas.concat instead.\n",
      "  prop_df = prop_df.append(p_df)\n",
      "C:\\Users\\USER\\PycharmProjects\\materials\\venv\\lib\\site-packages\\matminer\\data_retrieval\\retrieve_Citrine.py:123: FutureWarning: pandas.io.json.json_normalize is deprecated, use pandas.json_normalize instead.\n",
      "  system_normdf = json_normalize(system_value)\n",
      "C:\\Users\\USER\\PycharmProjects\\materials\\venv\\lib\\site-packages\\matminer\\data_retrieval\\retrieve_Citrine.py:129: FutureWarning: The frame.append method is deprecated and will be removed from pandas in a future version. Use pandas.concat instead.\n",
      "  non_prop_df = non_prop_df.append(non_prop_row)\n",
      "C:\\Users\\USER\\PycharmProjects\\materials\\venv\\lib\\site-packages\\matminer\\data_retrieval\\retrieve_Citrine.py:167: FutureWarning: The frame.append method is deprecated and will be removed from pandas in a future version. Use pandas.concat instead.\n",
      "  prop_df = prop_df.append(p_df)\n",
      "C:\\Users\\USER\\PycharmProjects\\materials\\venv\\lib\\site-packages\\matminer\\data_retrieval\\retrieve_Citrine.py:123: FutureWarning: pandas.io.json.json_normalize is deprecated, use pandas.json_normalize instead.\n",
      "  system_normdf = json_normalize(system_value)\n",
      "C:\\Users\\USER\\PycharmProjects\\materials\\venv\\lib\\site-packages\\matminer\\data_retrieval\\retrieve_Citrine.py:129: FutureWarning: The frame.append method is deprecated and will be removed from pandas in a future version. Use pandas.concat instead.\n",
      "  non_prop_df = non_prop_df.append(non_prop_row)\n",
      "C:\\Users\\USER\\PycharmProjects\\materials\\venv\\lib\\site-packages\\matminer\\data_retrieval\\retrieve_Citrine.py:167: FutureWarning: The frame.append method is deprecated and will be removed from pandas in a future version. Use pandas.concat instead.\n",
      "  prop_df = prop_df.append(p_df)\n",
      "C:\\Users\\USER\\PycharmProjects\\materials\\venv\\lib\\site-packages\\matminer\\data_retrieval\\retrieve_Citrine.py:123: FutureWarning: pandas.io.json.json_normalize is deprecated, use pandas.json_normalize instead.\n",
      "  system_normdf = json_normalize(system_value)\n",
      "C:\\Users\\USER\\PycharmProjects\\materials\\venv\\lib\\site-packages\\matminer\\data_retrieval\\retrieve_Citrine.py:129: FutureWarning: The frame.append method is deprecated and will be removed from pandas in a future version. Use pandas.concat instead.\n",
      "  non_prop_df = non_prop_df.append(non_prop_row)\n",
      "C:\\Users\\USER\\PycharmProjects\\materials\\venv\\lib\\site-packages\\matminer\\data_retrieval\\retrieve_Citrine.py:167: FutureWarning: The frame.append method is deprecated and will be removed from pandas in a future version. Use pandas.concat instead.\n",
      "  prop_df = prop_df.append(p_df)\n",
      "C:\\Users\\USER\\PycharmProjects\\materials\\venv\\lib\\site-packages\\matminer\\data_retrieval\\retrieve_Citrine.py:123: FutureWarning: pandas.io.json.json_normalize is deprecated, use pandas.json_normalize instead.\n",
      "  system_normdf = json_normalize(system_value)\n",
      "C:\\Users\\USER\\PycharmProjects\\materials\\venv\\lib\\site-packages\\matminer\\data_retrieval\\retrieve_Citrine.py:129: FutureWarning: The frame.append method is deprecated and will be removed from pandas in a future version. Use pandas.concat instead.\n",
      "  non_prop_df = non_prop_df.append(non_prop_row)\n",
      "C:\\Users\\USER\\PycharmProjects\\materials\\venv\\lib\\site-packages\\matminer\\data_retrieval\\retrieve_Citrine.py:167: FutureWarning: The frame.append method is deprecated and will be removed from pandas in a future version. Use pandas.concat instead.\n",
      "  prop_df = prop_df.append(p_df)\n",
      "C:\\Users\\USER\\PycharmProjects\\materials\\venv\\lib\\site-packages\\matminer\\data_retrieval\\retrieve_Citrine.py:123: FutureWarning: pandas.io.json.json_normalize is deprecated, use pandas.json_normalize instead.\n",
      "  system_normdf = json_normalize(system_value)\n",
      "C:\\Users\\USER\\PycharmProjects\\materials\\venv\\lib\\site-packages\\matminer\\data_retrieval\\retrieve_Citrine.py:129: FutureWarning: The frame.append method is deprecated and will be removed from pandas in a future version. Use pandas.concat instead.\n",
      "  non_prop_df = non_prop_df.append(non_prop_row)\n",
      "C:\\Users\\USER\\PycharmProjects\\materials\\venv\\lib\\site-packages\\matminer\\data_retrieval\\retrieve_Citrine.py:167: FutureWarning: The frame.append method is deprecated and will be removed from pandas in a future version. Use pandas.concat instead.\n",
      "  prop_df = prop_df.append(p_df)\n",
      "C:\\Users\\USER\\PycharmProjects\\materials\\venv\\lib\\site-packages\\matminer\\data_retrieval\\retrieve_Citrine.py:123: FutureWarning: pandas.io.json.json_normalize is deprecated, use pandas.json_normalize instead.\n",
      "  system_normdf = json_normalize(system_value)\n",
      "C:\\Users\\USER\\PycharmProjects\\materials\\venv\\lib\\site-packages\\matminer\\data_retrieval\\retrieve_Citrine.py:129: FutureWarning: The frame.append method is deprecated and will be removed from pandas in a future version. Use pandas.concat instead.\n",
      "  non_prop_df = non_prop_df.append(non_prop_row)\n",
      "C:\\Users\\USER\\PycharmProjects\\materials\\venv\\lib\\site-packages\\matminer\\data_retrieval\\retrieve_Citrine.py:167: FutureWarning: The frame.append method is deprecated and will be removed from pandas in a future version. Use pandas.concat instead.\n",
      "  prop_df = prop_df.append(p_df)\n",
      " 38%|███▊      | 8/21 [00:00<00:00, 51.61it/s]C:\\Users\\USER\\PycharmProjects\\materials\\venv\\lib\\site-packages\\matminer\\data_retrieval\\retrieve_Citrine.py:123: FutureWarning: pandas.io.json.json_normalize is deprecated, use pandas.json_normalize instead.\n",
      "  system_normdf = json_normalize(system_value)\n",
      "C:\\Users\\USER\\PycharmProjects\\materials\\venv\\lib\\site-packages\\matminer\\data_retrieval\\retrieve_Citrine.py:129: FutureWarning: The frame.append method is deprecated and will be removed from pandas in a future version. Use pandas.concat instead.\n",
      "  non_prop_df = non_prop_df.append(non_prop_row)\n",
      "C:\\Users\\USER\\PycharmProjects\\materials\\venv\\lib\\site-packages\\matminer\\data_retrieval\\retrieve_Citrine.py:167: FutureWarning: The frame.append method is deprecated and will be removed from pandas in a future version. Use pandas.concat instead.\n",
      "  prop_df = prop_df.append(p_df)\n",
      "C:\\Users\\USER\\PycharmProjects\\materials\\venv\\lib\\site-packages\\matminer\\data_retrieval\\retrieve_Citrine.py:123: FutureWarning: pandas.io.json.json_normalize is deprecated, use pandas.json_normalize instead.\n",
      "  system_normdf = json_normalize(system_value)\n",
      "C:\\Users\\USER\\PycharmProjects\\materials\\venv\\lib\\site-packages\\matminer\\data_retrieval\\retrieve_Citrine.py:129: FutureWarning: The frame.append method is deprecated and will be removed from pandas in a future version. Use pandas.concat instead.\n",
      "  non_prop_df = non_prop_df.append(non_prop_row)\n",
      "C:\\Users\\USER\\PycharmProjects\\materials\\venv\\lib\\site-packages\\matminer\\data_retrieval\\retrieve_Citrine.py:167: FutureWarning: The frame.append method is deprecated and will be removed from pandas in a future version. Use pandas.concat instead.\n",
      "  prop_df = prop_df.append(p_df)\n",
      "C:\\Users\\USER\\PycharmProjects\\materials\\venv\\lib\\site-packages\\matminer\\data_retrieval\\retrieve_Citrine.py:123: FutureWarning: pandas.io.json.json_normalize is deprecated, use pandas.json_normalize instead.\n",
      "  system_normdf = json_normalize(system_value)\n",
      "C:\\Users\\USER\\PycharmProjects\\materials\\venv\\lib\\site-packages\\matminer\\data_retrieval\\retrieve_Citrine.py:129: FutureWarning: The frame.append method is deprecated and will be removed from pandas in a future version. Use pandas.concat instead.\n",
      "  non_prop_df = non_prop_df.append(non_prop_row)\n",
      "C:\\Users\\USER\\PycharmProjects\\materials\\venv\\lib\\site-packages\\matminer\\data_retrieval\\retrieve_Citrine.py:167: FutureWarning: The frame.append method is deprecated and will be removed from pandas in a future version. Use pandas.concat instead.\n",
      "  prop_df = prop_df.append(p_df)\n",
      "C:\\Users\\USER\\PycharmProjects\\materials\\venv\\lib\\site-packages\\matminer\\data_retrieval\\retrieve_Citrine.py:123: FutureWarning: pandas.io.json.json_normalize is deprecated, use pandas.json_normalize instead.\n",
      "  system_normdf = json_normalize(system_value)\n",
      "C:\\Users\\USER\\PycharmProjects\\materials\\venv\\lib\\site-packages\\matminer\\data_retrieval\\retrieve_Citrine.py:129: FutureWarning: The frame.append method is deprecated and will be removed from pandas in a future version. Use pandas.concat instead.\n",
      "  non_prop_df = non_prop_df.append(non_prop_row)\n",
      "C:\\Users\\USER\\PycharmProjects\\materials\\venv\\lib\\site-packages\\matminer\\data_retrieval\\retrieve_Citrine.py:167: FutureWarning: The frame.append method is deprecated and will be removed from pandas in a future version. Use pandas.concat instead.\n",
      "  prop_df = prop_df.append(p_df)\n",
      "C:\\Users\\USER\\PycharmProjects\\materials\\venv\\lib\\site-packages\\matminer\\data_retrieval\\retrieve_Citrine.py:123: FutureWarning: pandas.io.json.json_normalize is deprecated, use pandas.json_normalize instead.\n",
      "  system_normdf = json_normalize(system_value)\n",
      "C:\\Users\\USER\\PycharmProjects\\materials\\venv\\lib\\site-packages\\matminer\\data_retrieval\\retrieve_Citrine.py:129: FutureWarning: The frame.append method is deprecated and will be removed from pandas in a future version. Use pandas.concat instead.\n",
      "  non_prop_df = non_prop_df.append(non_prop_row)\n",
      "C:\\Users\\USER\\PycharmProjects\\materials\\venv\\lib\\site-packages\\matminer\\data_retrieval\\retrieve_Citrine.py:167: FutureWarning: The frame.append method is deprecated and will be removed from pandas in a future version. Use pandas.concat instead.\n",
      "  prop_df = prop_df.append(p_df)\n",
      "C:\\Users\\USER\\PycharmProjects\\materials\\venv\\lib\\site-packages\\matminer\\data_retrieval\\retrieve_Citrine.py:123: FutureWarning: pandas.io.json.json_normalize is deprecated, use pandas.json_normalize instead.\n",
      "  system_normdf = json_normalize(system_value)\n",
      "C:\\Users\\USER\\PycharmProjects\\materials\\venv\\lib\\site-packages\\matminer\\data_retrieval\\retrieve_Citrine.py:129: FutureWarning: The frame.append method is deprecated and will be removed from pandas in a future version. Use pandas.concat instead.\n",
      "  non_prop_df = non_prop_df.append(non_prop_row)\n",
      "C:\\Users\\USER\\PycharmProjects\\materials\\venv\\lib\\site-packages\\matminer\\data_retrieval\\retrieve_Citrine.py:167: FutureWarning: The frame.append method is deprecated and will be removed from pandas in a future version. Use pandas.concat instead.\n",
      "  prop_df = prop_df.append(p_df)\n",
      " 67%|██████▋   | 14/21 [00:00<00:00, 53.09it/s]C:\\Users\\USER\\PycharmProjects\\materials\\venv\\lib\\site-packages\\matminer\\data_retrieval\\retrieve_Citrine.py:123: FutureWarning: pandas.io.json.json_normalize is deprecated, use pandas.json_normalize instead.\n",
      "  system_normdf = json_normalize(system_value)\n",
      "C:\\Users\\USER\\PycharmProjects\\materials\\venv\\lib\\site-packages\\matminer\\data_retrieval\\retrieve_Citrine.py:129: FutureWarning: The frame.append method is deprecated and will be removed from pandas in a future version. Use pandas.concat instead.\n",
      "  non_prop_df = non_prop_df.append(non_prop_row)\n",
      "C:\\Users\\USER\\PycharmProjects\\materials\\venv\\lib\\site-packages\\matminer\\data_retrieval\\retrieve_Citrine.py:167: FutureWarning: The frame.append method is deprecated and will be removed from pandas in a future version. Use pandas.concat instead.\n",
      "  prop_df = prop_df.append(p_df)\n",
      "C:\\Users\\USER\\PycharmProjects\\materials\\venv\\lib\\site-packages\\matminer\\data_retrieval\\retrieve_Citrine.py:123: FutureWarning: pandas.io.json.json_normalize is deprecated, use pandas.json_normalize instead.\n",
      "  system_normdf = json_normalize(system_value)\n",
      "C:\\Users\\USER\\PycharmProjects\\materials\\venv\\lib\\site-packages\\matminer\\data_retrieval\\retrieve_Citrine.py:129: FutureWarning: The frame.append method is deprecated and will be removed from pandas in a future version. Use pandas.concat instead.\n",
      "  non_prop_df = non_prop_df.append(non_prop_row)\n",
      "C:\\Users\\USER\\PycharmProjects\\materials\\venv\\lib\\site-packages\\matminer\\data_retrieval\\retrieve_Citrine.py:167: FutureWarning: The frame.append method is deprecated and will be removed from pandas in a future version. Use pandas.concat instead.\n",
      "  prop_df = prop_df.append(p_df)\n",
      "C:\\Users\\USER\\PycharmProjects\\materials\\venv\\lib\\site-packages\\matminer\\data_retrieval\\retrieve_Citrine.py:123: FutureWarning: pandas.io.json.json_normalize is deprecated, use pandas.json_normalize instead.\n",
      "  system_normdf = json_normalize(system_value)\n",
      "C:\\Users\\USER\\PycharmProjects\\materials\\venv\\lib\\site-packages\\matminer\\data_retrieval\\retrieve_Citrine.py:129: FutureWarning: The frame.append method is deprecated and will be removed from pandas in a future version. Use pandas.concat instead.\n",
      "  non_prop_df = non_prop_df.append(non_prop_row)\n",
      "C:\\Users\\USER\\PycharmProjects\\materials\\venv\\lib\\site-packages\\matminer\\data_retrieval\\retrieve_Citrine.py:167: FutureWarning: The frame.append method is deprecated and will be removed from pandas in a future version. Use pandas.concat instead.\n",
      "  prop_df = prop_df.append(p_df)\n",
      "C:\\Users\\USER\\PycharmProjects\\materials\\venv\\lib\\site-packages\\matminer\\data_retrieval\\retrieve_Citrine.py:123: FutureWarning: pandas.io.json.json_normalize is deprecated, use pandas.json_normalize instead.\n",
      "  system_normdf = json_normalize(system_value)\n",
      "C:\\Users\\USER\\PycharmProjects\\materials\\venv\\lib\\site-packages\\matminer\\data_retrieval\\retrieve_Citrine.py:129: FutureWarning: The frame.append method is deprecated and will be removed from pandas in a future version. Use pandas.concat instead.\n",
      "  non_prop_df = non_prop_df.append(non_prop_row)\n",
      "C:\\Users\\USER\\PycharmProjects\\materials\\venv\\lib\\site-packages\\matminer\\data_retrieval\\retrieve_Citrine.py:167: FutureWarning: The frame.append method is deprecated and will be removed from pandas in a future version. Use pandas.concat instead.\n",
      "  prop_df = prop_df.append(p_df)\n",
      "C:\\Users\\USER\\PycharmProjects\\materials\\venv\\lib\\site-packages\\matminer\\data_retrieval\\retrieve_Citrine.py:123: FutureWarning: pandas.io.json.json_normalize is deprecated, use pandas.json_normalize instead.\n",
      "  system_normdf = json_normalize(system_value)\n",
      "C:\\Users\\USER\\PycharmProjects\\materials\\venv\\lib\\site-packages\\matminer\\data_retrieval\\retrieve_Citrine.py:129: FutureWarning: The frame.append method is deprecated and will be removed from pandas in a future version. Use pandas.concat instead.\n",
      "  non_prop_df = non_prop_df.append(non_prop_row)\n",
      "C:\\Users\\USER\\PycharmProjects\\materials\\venv\\lib\\site-packages\\matminer\\data_retrieval\\retrieve_Citrine.py:167: FutureWarning: The frame.append method is deprecated and will be removed from pandas in a future version. Use pandas.concat instead.\n",
      "  prop_df = prop_df.append(p_df)\n",
      "C:\\Users\\USER\\PycharmProjects\\materials\\venv\\lib\\site-packages\\matminer\\data_retrieval\\retrieve_Citrine.py:123: FutureWarning: pandas.io.json.json_normalize is deprecated, use pandas.json_normalize instead.\n",
      "  system_normdf = json_normalize(system_value)\n",
      "C:\\Users\\USER\\PycharmProjects\\materials\\venv\\lib\\site-packages\\matminer\\data_retrieval\\retrieve_Citrine.py:129: FutureWarning: The frame.append method is deprecated and will be removed from pandas in a future version. Use pandas.concat instead.\n",
      "  non_prop_df = non_prop_df.append(non_prop_row)\n",
      "C:\\Users\\USER\\PycharmProjects\\materials\\venv\\lib\\site-packages\\matminer\\data_retrieval\\retrieve_Citrine.py:167: FutureWarning: The frame.append method is deprecated and will be removed from pandas in a future version. Use pandas.concat instead.\n",
      "  prop_df = prop_df.append(p_df)\n",
      "C:\\Users\\USER\\PycharmProjects\\materials\\venv\\lib\\site-packages\\matminer\\data_retrieval\\retrieve_Citrine.py:123: FutureWarning: pandas.io.json.json_normalize is deprecated, use pandas.json_normalize instead.\n",
      "  system_normdf = json_normalize(system_value)\n",
      "C:\\Users\\USER\\PycharmProjects\\materials\\venv\\lib\\site-packages\\matminer\\data_retrieval\\retrieve_Citrine.py:129: FutureWarning: The frame.append method is deprecated and will be removed from pandas in a future version. Use pandas.concat instead.\n",
      "  non_prop_df = non_prop_df.append(non_prop_row)\n",
      "C:\\Users\\USER\\PycharmProjects\\materials\\venv\\lib\\site-packages\\matminer\\data_retrieval\\retrieve_Citrine.py:167: FutureWarning: The frame.append method is deprecated and will be removed from pandas in a future version. Use pandas.concat instead.\n",
      "  prop_df = prop_df.append(p_df)\n",
      "100%|██████████| 21/21 [00:00<00:00, 65.42it/s]"
     ]
    },
    {
     "name": "stdout",
     "output_type": "stream",
     "text": [
      "all available fields:\n",
      "['chemicalFormula', 'uid', 'Adsorption energy of O', 'category', 'Reconstruction', 'references', 'Adsorption energy of O-conditions', 'Adsorption energy of O-units', 'Surface facet']\n",
      "\n",
      "suggested common fields:\n",
      "['references', 'chemicalFormula', 'Surface facet', 'Adsorption energy of O', 'Adsorption energy of O-units', 'Adsorption energy of O-conditions', 'Reconstruction']\n"
     ]
    },
    {
     "name": "stderr",
     "output_type": "stream",
     "text": [
      "\n"
     ]
    }
   ],
   "source": [
    "df_OH = cdr.get_dataframe(criteria={}, properties=['adsorption energy of OH'], secondary_fields=True)\n",
    "df_O = cdr.get_dataframe(criteria={}, properties=['adsorption energy of O'], secondary_fields=True)"
   ],
   "metadata": {
    "collapsed": false,
    "pycharm": {
     "name": "#%%\n"
    }
   }
  },
  {
   "cell_type": "code",
   "execution_count": 7,
   "outputs": [
    {
     "data": {
      "text/plain": "                                          references chemicalFormula  \\\n1  [{'citation': '10.1039/c2cc30281k', 'doi': '10...              Pt   \n2  [{'citation': '10.1016/s1872-2067(12)60642-1',...              Cu   \n3  [{'citation': '10.1016/s1872-2067(12)60642-1',...             ZnO   \n4  [{'citation': '10.1016/j.corsci.2012.11.011', ...              Fe   \n5  [{'citation': '10.1021/jp807094m', 'doi': '10....              Pt   \n\n  Surface facet Adsorption energy of OH Adsorption energy of OH-units  \\\n1         (111)                    2.44                            eV   \n2         (211)                   -3.55                            eV   \n3           NaN                   -3.03                            eV   \n4         (100)                   -3.95                            eV   \n5         (111)                    2.71                            eV   \n\n  Adsorption energy of OH-dataType Morphology  \\\n1                              NaN        NaN   \n2                    COMPUTATIONAL        NaN   \n3                    COMPUTATIONAL  Thin film   \n4                              NaN        NaN   \n5                              NaN        NaN   \n\n                  Adsorption energy of OH-conditions  \n1                                                NaN  \n2                                                NaN  \n3                                                NaN  \n4                                                NaN  \n5  {'name': 'Site', 'scalars': [{'value': 'Top si...  ",
      "text/html": "<div>\n<style scoped>\n    .dataframe tbody tr th:only-of-type {\n        vertical-align: middle;\n    }\n\n    .dataframe tbody tr th {\n        vertical-align: top;\n    }\n\n    .dataframe thead th {\n        text-align: right;\n    }\n</style>\n<table border=\"1\" class=\"dataframe\">\n  <thead>\n    <tr style=\"text-align: right;\">\n      <th></th>\n      <th>references</th>\n      <th>chemicalFormula</th>\n      <th>Surface facet</th>\n      <th>Adsorption energy of OH</th>\n      <th>Adsorption energy of OH-units</th>\n      <th>Adsorption energy of OH-dataType</th>\n      <th>Morphology</th>\n      <th>Adsorption energy of OH-conditions</th>\n    </tr>\n  </thead>\n  <tbody>\n    <tr>\n      <th>1</th>\n      <td>[{'citation': '10.1039/c2cc30281k', 'doi': '10...</td>\n      <td>Pt</td>\n      <td>(111)</td>\n      <td>2.44</td>\n      <td>eV</td>\n      <td>NaN</td>\n      <td>NaN</td>\n      <td>NaN</td>\n    </tr>\n    <tr>\n      <th>2</th>\n      <td>[{'citation': '10.1016/s1872-2067(12)60642-1',...</td>\n      <td>Cu</td>\n      <td>(211)</td>\n      <td>-3.55</td>\n      <td>eV</td>\n      <td>COMPUTATIONAL</td>\n      <td>NaN</td>\n      <td>NaN</td>\n    </tr>\n    <tr>\n      <th>3</th>\n      <td>[{'citation': '10.1016/s1872-2067(12)60642-1',...</td>\n      <td>ZnO</td>\n      <td>NaN</td>\n      <td>-3.03</td>\n      <td>eV</td>\n      <td>COMPUTATIONAL</td>\n      <td>Thin film</td>\n      <td>NaN</td>\n    </tr>\n    <tr>\n      <th>4</th>\n      <td>[{'citation': '10.1016/j.corsci.2012.11.011', ...</td>\n      <td>Fe</td>\n      <td>(100)</td>\n      <td>-3.95</td>\n      <td>eV</td>\n      <td>NaN</td>\n      <td>NaN</td>\n      <td>NaN</td>\n    </tr>\n    <tr>\n      <th>5</th>\n      <td>[{'citation': '10.1021/jp807094m', 'doi': '10....</td>\n      <td>Pt</td>\n      <td>(111)</td>\n      <td>2.71</td>\n      <td>eV</td>\n      <td>NaN</td>\n      <td>NaN</td>\n      <td>{'name': 'Site', 'scalars': [{'value': 'Top si...</td>\n    </tr>\n  </tbody>\n</table>\n</div>"
     },
     "execution_count": 7,
     "metadata": {},
     "output_type": "execute_result"
    }
   ],
   "source": [
    "df_OH.head()"
   ],
   "metadata": {
    "collapsed": false,
    "pycharm": {
     "name": "#%%\n"
    }
   }
  },
  {
   "cell_type": "code",
   "execution_count": 8,
   "outputs": [
    {
     "data": {
      "text/plain": "                                          references chemicalFormula  \\\n1  [{'citation': '10.1016/j.jcat.2007.04.018', 'd...              Fe   \n2  [{'citation': '10.1002/cctc.201100308', 'doi':...              Pt   \n3  [{'citation': '10.1021/jp307055j', 'doi': '10....              Pt   \n4  [{'citation': '10.1021/jp710674q', 'doi': '10....              Co   \n5  [{'citation': '10.1007/bf00806980', 'doi': '10...              Rh   \n\n  Surface facet Adsorption energy of O Adsorption energy of O-units  \\\n1         (111)                  -5.42                           eV   \n2         (111)                   1.53                           eV   \n3         (111)                  -4.54                           eV   \n4        (0001)                   2.37                           eV   \n5         (110)                   -300                       kJ/mol   \n\n                   Adsorption energy of O-conditions Reconstruction  \n1                                                NaN            NaN  \n2                                                NaN            NaN  \n3                                                NaN            NaN  \n4  {'name': 'Site', 'scalars': [{'value': 'FCC si...            NaN  \n5                                                NaN            NaN  ",
      "text/html": "<div>\n<style scoped>\n    .dataframe tbody tr th:only-of-type {\n        vertical-align: middle;\n    }\n\n    .dataframe tbody tr th {\n        vertical-align: top;\n    }\n\n    .dataframe thead th {\n        text-align: right;\n    }\n</style>\n<table border=\"1\" class=\"dataframe\">\n  <thead>\n    <tr style=\"text-align: right;\">\n      <th></th>\n      <th>references</th>\n      <th>chemicalFormula</th>\n      <th>Surface facet</th>\n      <th>Adsorption energy of O</th>\n      <th>Adsorption energy of O-units</th>\n      <th>Adsorption energy of O-conditions</th>\n      <th>Reconstruction</th>\n    </tr>\n  </thead>\n  <tbody>\n    <tr>\n      <th>1</th>\n      <td>[{'citation': '10.1016/j.jcat.2007.04.018', 'd...</td>\n      <td>Fe</td>\n      <td>(111)</td>\n      <td>-5.42</td>\n      <td>eV</td>\n      <td>NaN</td>\n      <td>NaN</td>\n    </tr>\n    <tr>\n      <th>2</th>\n      <td>[{'citation': '10.1002/cctc.201100308', 'doi':...</td>\n      <td>Pt</td>\n      <td>(111)</td>\n      <td>1.53</td>\n      <td>eV</td>\n      <td>NaN</td>\n      <td>NaN</td>\n    </tr>\n    <tr>\n      <th>3</th>\n      <td>[{'citation': '10.1021/jp307055j', 'doi': '10....</td>\n      <td>Pt</td>\n      <td>(111)</td>\n      <td>-4.54</td>\n      <td>eV</td>\n      <td>NaN</td>\n      <td>NaN</td>\n    </tr>\n    <tr>\n      <th>4</th>\n      <td>[{'citation': '10.1021/jp710674q', 'doi': '10....</td>\n      <td>Co</td>\n      <td>(0001)</td>\n      <td>2.37</td>\n      <td>eV</td>\n      <td>{'name': 'Site', 'scalars': [{'value': 'FCC si...</td>\n      <td>NaN</td>\n    </tr>\n    <tr>\n      <th>5</th>\n      <td>[{'citation': '10.1007/bf00806980', 'doi': '10...</td>\n      <td>Rh</td>\n      <td>(110)</td>\n      <td>-300</td>\n      <td>kJ/mol</td>\n      <td>NaN</td>\n      <td>NaN</td>\n    </tr>\n  </tbody>\n</table>\n</div>"
     },
     "execution_count": 8,
     "metadata": {},
     "output_type": "execute_result"
    }
   ],
   "source": [
    "df_O.head()"
   ],
   "metadata": {
    "collapsed": false,
    "pycharm": {
     "name": "#%%\n"
    }
   }
  },
  {
   "cell_type": "code",
   "execution_count": null,
   "outputs": [],
   "source": [],
   "metadata": {
    "collapsed": false,
    "pycharm": {
     "name": "#%%\n"
    }
   }
  }
 ],
 "metadata": {
  "kernelspec": {
   "display_name": "Python 3",
   "language": "python",
   "name": "python3"
  },
  "language_info": {
   "codemirror_mode": {
    "name": "ipython",
    "version": 2
   },
   "file_extension": ".py",
   "mimetype": "text/x-python",
   "name": "python",
   "nbconvert_exporter": "python",
   "pygments_lexer": "ipython2",
   "version": "2.7.6"
  }
 },
 "nbformat": 4,
 "nbformat_minor": 0
}