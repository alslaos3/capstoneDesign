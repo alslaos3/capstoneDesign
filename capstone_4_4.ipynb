{
 "cells": [
  {
   "cell_type": "code",
   "execution_count": 4,
   "outputs": [],
   "source": [
    "from matminer.data_retrieval.retrieve_MDF import MDFDataRetrieval"
   ],
   "metadata": {
    "collapsed": false,
    "pycharm": {
     "name": "#%%\n"
    }
   }
  },
  {
   "cell_type": "code",
   "execution_count": 5,
   "outputs": [],
   "source": [
    "mdf_dr = MDFDataRetrieval(anonymous=True) # Or anonymous=False if you have a Globus login"
   ],
   "metadata": {
    "collapsed": false,
    "pycharm": {
     "name": "#%%\n"
    }
   }
  },
  {
   "cell_type": "code",
   "execution_count": 6,
   "outputs": [],
   "source": [
    "df = mdf_dr.get_dataframe(criteria={'elements': ['Ag', 'Be'], 'sources': [\"oqmd\"]})"
   ],
   "metadata": {
    "collapsed": false,
    "pycharm": {
     "name": "#%%\n"
    }
   }
  },
  {
   "cell_type": "code",
   "execution_count": 7,
   "outputs": [
    {
     "data": {
      "text/plain": "                                   files.0.data_type  \\\n0  ASCII text, with very long lines, with no line...   \n1  ASCII text, with very long lines, with no line...   \n2  ASCII text, with very long lines, with no line...   \n3  ASCII text, with very long lines, with no line...   \n4  ASCII text, with very long lines, with no line...   \n\n                                      files.0.globus files.0.filename  \\\n0  globus://e38ee745-6d04-11e5-ba46-22000b92c6ec/...      537496.json   \n1  globus://e38ee745-6d04-11e5-ba46-22000b92c6ec/...       86132.json   \n2  globus://e38ee745-6d04-11e5-ba46-22000b92c6ec/...      113627.json   \n3  globus://e38ee745-6d04-11e5-ba46-22000b92c6ec/...       19313.json   \n4  globus://e38ee745-6d04-11e5-ba46-22000b92c6ec/...       71045.json   \n\n                                         files.0.url  files.0.length  \\\n0  https://e38ee745-6d04-11e5-ba46-22000b92c6ec.e...           10833   \n1  https://e38ee745-6d04-11e5-ba46-22000b92c6ec.e...           11014   \n2  https://e38ee745-6d04-11e5-ba46-22000b92c6ec.e...           11526   \n3  https://e38ee745-6d04-11e5-ba46-22000b92c6ec.e...           11320   \n4  https://e38ee745-6d04-11e5-ba46-22000b92c6ec.e...           11283   \n\n                                      files.0.sha512 files.0.mime_type  \\\n0  143f3ab7c13569ffe11168625a67efb23e12c98631c3b3...        text/plain   \n1  0ec94f3d9758dbe490ab783e96ad3c5fe38407eba76e8e...        text/plain   \n2  5f2a5b57a4e55d479648deee2799b78deabacda07c7141...        text/plain   \n3  03a65f388a9a6a31d2e71a5b339de31eec11dd5ca5f9b2...        text/plain   \n4  793a453655aaac5bc05a04b0b6b017126d099be3129e6e...        text/plain   \n\n  oqmd.band_gap.units  oqmd.band_gap.value oqmd.stability.units  ...  \\\n0                  eV                  0.0              eV/atom  ...   \n1                  eV                  0.0                  NaN  ...   \n2                  eV                  0.0              eV/atom  ...   \n3                  eV                  0.0                  NaN  ...   \n4                  eV                  0.0              eV/atom  ...   \n\n   jarvis.landing_page jarvis.dimensionality  jarvis.bandgap.optb88vdw  \\\n0                  NaN                   NaN                       NaN   \n1                  NaN                   NaN                       NaN   \n2                  NaN                   NaN                       NaN   \n3                  NaN                   NaN                       NaN   \n4                  NaN                   NaN                       NaN   \n\n  jarvis.formation_enthalpy jarvis.total_energy  \\\n0                       NaN                 NaN   \n1                       NaN                 NaN   \n2                       NaN                 NaN   \n3                       NaN                 NaN   \n4                       NaN                 NaN   \n\n   jarvis.crossreference.materials_project jarvis.id jarvis.bandgap.mbj  \\\n0                                      NaN       NaN                NaN   \n1                                      NaN       NaN                NaN   \n2                                      NaN       NaN                NaN   \n3                                      NaN       NaN                NaN   \n4                                      NaN       NaN                NaN   \n\n   material.elements.2  oqmd.magnetic_moment.value  \n0                  NaN                         NaN  \n1                  NaN                         NaN  \n2                  NaN                         NaN  \n3                  NaN                         NaN  \n4                  NaN                         NaN  \n\n[5 rows x 48 columns]",
      "text/html": "<div>\n<style scoped>\n    .dataframe tbody tr th:only-of-type {\n        vertical-align: middle;\n    }\n\n    .dataframe tbody tr th {\n        vertical-align: top;\n    }\n\n    .dataframe thead th {\n        text-align: right;\n    }\n</style>\n<table border=\"1\" class=\"dataframe\">\n  <thead>\n    <tr style=\"text-align: right;\">\n      <th></th>\n      <th>files.0.data_type</th>\n      <th>files.0.globus</th>\n      <th>files.0.filename</th>\n      <th>files.0.url</th>\n      <th>files.0.length</th>\n      <th>files.0.sha512</th>\n      <th>files.0.mime_type</th>\n      <th>oqmd.band_gap.units</th>\n      <th>oqmd.band_gap.value</th>\n      <th>oqmd.stability.units</th>\n      <th>...</th>\n      <th>jarvis.landing_page</th>\n      <th>jarvis.dimensionality</th>\n      <th>jarvis.bandgap.optb88vdw</th>\n      <th>jarvis.formation_enthalpy</th>\n      <th>jarvis.total_energy</th>\n      <th>jarvis.crossreference.materials_project</th>\n      <th>jarvis.id</th>\n      <th>jarvis.bandgap.mbj</th>\n      <th>material.elements.2</th>\n      <th>oqmd.magnetic_moment.value</th>\n    </tr>\n  </thead>\n  <tbody>\n    <tr>\n      <th>0</th>\n      <td>ASCII text, with very long lines, with no line...</td>\n      <td>globus://e38ee745-6d04-11e5-ba46-22000b92c6ec/...</td>\n      <td>537496.json</td>\n      <td>https://e38ee745-6d04-11e5-ba46-22000b92c6ec.e...</td>\n      <td>10833</td>\n      <td>143f3ab7c13569ffe11168625a67efb23e12c98631c3b3...</td>\n      <td>text/plain</td>\n      <td>eV</td>\n      <td>0.0</td>\n      <td>eV/atom</td>\n      <td>...</td>\n      <td>NaN</td>\n      <td>NaN</td>\n      <td>NaN</td>\n      <td>NaN</td>\n      <td>NaN</td>\n      <td>NaN</td>\n      <td>NaN</td>\n      <td>NaN</td>\n      <td>NaN</td>\n      <td>NaN</td>\n    </tr>\n    <tr>\n      <th>1</th>\n      <td>ASCII text, with very long lines, with no line...</td>\n      <td>globus://e38ee745-6d04-11e5-ba46-22000b92c6ec/...</td>\n      <td>86132.json</td>\n      <td>https://e38ee745-6d04-11e5-ba46-22000b92c6ec.e...</td>\n      <td>11014</td>\n      <td>0ec94f3d9758dbe490ab783e96ad3c5fe38407eba76e8e...</td>\n      <td>text/plain</td>\n      <td>eV</td>\n      <td>0.0</td>\n      <td>NaN</td>\n      <td>...</td>\n      <td>NaN</td>\n      <td>NaN</td>\n      <td>NaN</td>\n      <td>NaN</td>\n      <td>NaN</td>\n      <td>NaN</td>\n      <td>NaN</td>\n      <td>NaN</td>\n      <td>NaN</td>\n      <td>NaN</td>\n    </tr>\n    <tr>\n      <th>2</th>\n      <td>ASCII text, with very long lines, with no line...</td>\n      <td>globus://e38ee745-6d04-11e5-ba46-22000b92c6ec/...</td>\n      <td>113627.json</td>\n      <td>https://e38ee745-6d04-11e5-ba46-22000b92c6ec.e...</td>\n      <td>11526</td>\n      <td>5f2a5b57a4e55d479648deee2799b78deabacda07c7141...</td>\n      <td>text/plain</td>\n      <td>eV</td>\n      <td>0.0</td>\n      <td>eV/atom</td>\n      <td>...</td>\n      <td>NaN</td>\n      <td>NaN</td>\n      <td>NaN</td>\n      <td>NaN</td>\n      <td>NaN</td>\n      <td>NaN</td>\n      <td>NaN</td>\n      <td>NaN</td>\n      <td>NaN</td>\n      <td>NaN</td>\n    </tr>\n    <tr>\n      <th>3</th>\n      <td>ASCII text, with very long lines, with no line...</td>\n      <td>globus://e38ee745-6d04-11e5-ba46-22000b92c6ec/...</td>\n      <td>19313.json</td>\n      <td>https://e38ee745-6d04-11e5-ba46-22000b92c6ec.e...</td>\n      <td>11320</td>\n      <td>03a65f388a9a6a31d2e71a5b339de31eec11dd5ca5f9b2...</td>\n      <td>text/plain</td>\n      <td>eV</td>\n      <td>0.0</td>\n      <td>NaN</td>\n      <td>...</td>\n      <td>NaN</td>\n      <td>NaN</td>\n      <td>NaN</td>\n      <td>NaN</td>\n      <td>NaN</td>\n      <td>NaN</td>\n      <td>NaN</td>\n      <td>NaN</td>\n      <td>NaN</td>\n      <td>NaN</td>\n    </tr>\n    <tr>\n      <th>4</th>\n      <td>ASCII text, with very long lines, with no line...</td>\n      <td>globus://e38ee745-6d04-11e5-ba46-22000b92c6ec/...</td>\n      <td>71045.json</td>\n      <td>https://e38ee745-6d04-11e5-ba46-22000b92c6ec.e...</td>\n      <td>11283</td>\n      <td>793a453655aaac5bc05a04b0b6b017126d099be3129e6e...</td>\n      <td>text/plain</td>\n      <td>eV</td>\n      <td>0.0</td>\n      <td>eV/atom</td>\n      <td>...</td>\n      <td>NaN</td>\n      <td>NaN</td>\n      <td>NaN</td>\n      <td>NaN</td>\n      <td>NaN</td>\n      <td>NaN</td>\n      <td>NaN</td>\n      <td>NaN</td>\n      <td>NaN</td>\n      <td>NaN</td>\n    </tr>\n  </tbody>\n</table>\n<p>5 rows × 48 columns</p>\n</div>"
     },
     "execution_count": 7,
     "metadata": {},
     "output_type": "execute_result"
    }
   ],
   "source": [
    "df.head()"
   ],
   "metadata": {
    "collapsed": false,
    "pycharm": {
     "name": "#%%\n"
    }
   }
  },
  {
   "cell_type": "code",
   "execution_count": 8,
   "outputs": [
    {
     "name": "stdout",
     "output_type": "stream",
     "text": [
      "There are 421 entries in the Ag-Be chemical system\n"
     ]
    }
   ],
   "source": [
    "print(\"There are {} entries in the Ag-Be chemical system\".format(len(df)))"
   ],
   "metadata": {
    "collapsed": false,
    "pycharm": {
     "name": "#%%\n"
    }
   }
  },
  {
   "cell_type": "code",
   "execution_count": null,
   "outputs": [],
   "source": [],
   "metadata": {
    "collapsed": false,
    "pycharm": {
     "name": "#%%\n"
    }
   }
  }
 ],
 "metadata": {
  "kernelspec": {
   "display_name": "Python 3",
   "language": "python",
   "name": "python3"
  },
  "language_info": {
   "codemirror_mode": {
    "name": "ipython",
    "version": 2
   },
   "file_extension": ".py",
   "mimetype": "text/x-python",
   "name": "python",
   "nbconvert_exporter": "python",
   "pygments_lexer": "ipython2",
   "version": "2.7.6"
  }
 },
 "nbformat": 4,
 "nbformat_minor": 0
}