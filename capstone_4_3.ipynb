{
 "cells": [
  {
   "cell_type": "code",
   "execution_count": 1,
   "outputs": [],
   "source": [
    "from matminer.data_retrieval.retrieve_MPDS import MPDSDataRetrieval"
   ],
   "metadata": {
    "collapsed": false,
    "pycharm": {
     "name": "#%%\n"
    }
   }
  },
  {
   "cell_type": "code",
   "execution_count": 2,
   "outputs": [],
   "source": [
    "mpdsdr = MPDSDataRetrieval(api_key='pO1j6vcEuoasj6VHHwGbnWvDzmbhqCh2gSRsy9pnywnmn8k6')"
   ],
   "metadata": {
    "collapsed": false,
    "pycharm": {
     "name": "#%%\n"
    }
   }
  },
  {
   "cell_type": "code",
   "execution_count": 3,
   "outputs": [
    {
     "name": "stdout",
     "output_type": "stream",
     "text": [
      "\r\n",
      "Got 6 hits\r\n"
     ]
    }
   ],
   "source": [
    "df = mpdsdr.get_dataframe(criteria={\"elements\": \"K-Ag\", \"props\": \"heat capacity\"})"
   ],
   "metadata": {
    "collapsed": false,
    "pycharm": {
     "name": "#%%\n"
    }
   }
  },
  {
   "cell_type": "code",
   "execution_count": 4,
   "outputs": [
    {
     "data": {
      "text/plain": "   Phase          Formula   SG       Entry  \\\n0  35278        KAg4I5 rt  213  P1201629-3   \n1  91357  K2NaAg3[CN]6 lt   12  P1307433-3   \n2  91357  K2NaAg3[CN]6 lt   12  P1307433-4   \n3  91357  K2NaAg3[CN]6 lt   12  P1307434-3   \n4  91357  K2NaAg3[CN]6 lt   12  P1307434-4   \n\n                             Property          Units  Value  \n0  heat capacity at constant pressure  J K-1 g-at.-1   30.5  \n1  heat capacity at constant pressure  J K-1 g-at.-1   83.0  \n2  heat capacity at constant pressure  J K-1 g-at.-1  112.0  \n3  heat capacity at constant pressure  J K-1 g-at.-1   78.0  \n4  heat capacity at constant pressure  J K-1 g-at.-1   11.0  ",
      "text/html": "<div>\n<style scoped>\n    .dataframe tbody tr th:only-of-type {\n        vertical-align: middle;\n    }\n\n    .dataframe tbody tr th {\n        vertical-align: top;\n    }\n\n    .dataframe thead th {\n        text-align: right;\n    }\n</style>\n<table border=\"1\" class=\"dataframe\">\n  <thead>\n    <tr style=\"text-align: right;\">\n      <th></th>\n      <th>Phase</th>\n      <th>Formula</th>\n      <th>SG</th>\n      <th>Entry</th>\n      <th>Property</th>\n      <th>Units</th>\n      <th>Value</th>\n    </tr>\n  </thead>\n  <tbody>\n    <tr>\n      <th>0</th>\n      <td>35278</td>\n      <td>KAg4I5 rt</td>\n      <td>213</td>\n      <td>P1201629-3</td>\n      <td>heat capacity at constant pressure</td>\n      <td>J K-1 g-at.-1</td>\n      <td>30.5</td>\n    </tr>\n    <tr>\n      <th>1</th>\n      <td>91357</td>\n      <td>K2NaAg3[CN]6 lt</td>\n      <td>12</td>\n      <td>P1307433-3</td>\n      <td>heat capacity at constant pressure</td>\n      <td>J K-1 g-at.-1</td>\n      <td>83.0</td>\n    </tr>\n    <tr>\n      <th>2</th>\n      <td>91357</td>\n      <td>K2NaAg3[CN]6 lt</td>\n      <td>12</td>\n      <td>P1307433-4</td>\n      <td>heat capacity at constant pressure</td>\n      <td>J K-1 g-at.-1</td>\n      <td>112.0</td>\n    </tr>\n    <tr>\n      <th>3</th>\n      <td>91357</td>\n      <td>K2NaAg3[CN]6 lt</td>\n      <td>12</td>\n      <td>P1307434-3</td>\n      <td>heat capacity at constant pressure</td>\n      <td>J K-1 g-at.-1</td>\n      <td>78.0</td>\n    </tr>\n    <tr>\n      <th>4</th>\n      <td>91357</td>\n      <td>K2NaAg3[CN]6 lt</td>\n      <td>12</td>\n      <td>P1307434-4</td>\n      <td>heat capacity at constant pressure</td>\n      <td>J K-1 g-at.-1</td>\n      <td>11.0</td>\n    </tr>\n  </tbody>\n</table>\n</div>"
     },
     "execution_count": 4,
     "metadata": {},
     "output_type": "execute_result"
    }
   ],
   "source": [
    "df.head()"
   ],
   "metadata": {
    "collapsed": false,
    "pycharm": {
     "name": "#%%\n"
    }
   }
  },
  {
   "cell_type": "code",
   "execution_count": null,
   "outputs": [],
   "source": [],
   "metadata": {
    "collapsed": false,
    "pycharm": {
     "name": "#%%\n"
    }
   }
  }
 ],
 "metadata": {
  "kernelspec": {
   "display_name": "Python 3",
   "language": "python",
   "name": "python3"
  },
  "language_info": {
   "codemirror_mode": {
    "name": "ipython",
    "version": 2
   },
   "file_extension": ".py",
   "mimetype": "text/x-python",
   "name": "python",
   "nbconvert_exporter": "python",
   "pygments_lexer": "ipython2",
   "version": "2.7.6"
  }
 },
 "nbformat": 4,
 "nbformat_minor": 0
}